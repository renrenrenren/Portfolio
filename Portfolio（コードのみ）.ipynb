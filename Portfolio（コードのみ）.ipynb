{
 "cells": [
  {
   "cell_type": "markdown",
   "id": "9a3bde59",
   "metadata": {},
   "source": [
    "テーマ：リハビリテーションにおける取得単位数を統計的に妥当か検討する"
   ]
  },
  {
   "cell_type": "markdown",
   "id": "628f6ad6",
   "metadata": {},
   "source": [
    "①Problem（問題点の発見）"
   ]
  },
  {
   "cell_type": "markdown",
   "id": "ec6b112b",
   "metadata": {},
   "source": [
    "背景：リハビリテーション科の売り上げは大きくは取得単位数、早期リハビリテーション加算、リハビリテーション総合実施計画書、退院時指導等で構成されている。その中でも、取得単位数に関しては、個人の経験と感に伴うロジカルシンキングにより左右される部分が大きいと思われ、結果的にリハビリテーション科に売上の増減に影響することが予想される。"
   ]
  },
  {
   "cell_type": "markdown",
   "id": "def87e1f",
   "metadata": {},
   "source": [
    "②Plan（調査の計画）​"
   ]
  },
  {
   "cell_type": "markdown",
   "id": "8dc3f497",
   "metadata": {},
   "source": [
    "＜​目的＞​\n",
    "\n",
    "目的①：取得単位数と各説明変数の相関関係を分析​\n",
    "\n",
    "目的②：説明変数から取得単位数を予測​\n",
    "\n",
    "目的③：統計的な意思決定を伴うコスト算定ができる​"
   ]
  },
  {
   "cell_type": "markdown",
   "id": "bfced737",
   "metadata": {},
   "source": [
    "＜期間＞​\n",
    "\n",
    "評価：2022年4月から2022年8月の5ヵ月間\n",
    "\n",
    "具体的対応：2022年10月から12月の3ヵ月間\n",
    "\n",
    "再評価：2022年12月末\n",
    "\n",
    "＜方法＞​\n",
    "\n",
    "①リハビリテーション科で作成されているサマリーを使用\n",
    "\n",
    "②目的変数は取得単位数（平均あるいは合計）、説明変数は年齢、性別、NIHSS、FIMなど12項目とし回帰分析を行う\n",
    "\n",
    "②相関のある説明因子を用いて取得単位数を予測する"
   ]
  },
  {
   "cell_type": "markdown",
   "id": "c0f71d7e",
   "metadata": {},
   "source": [
    "③Data（データの収集）"
   ]
  },
  {
   "cell_type": "code",
   "execution_count": 1,
   "id": "d38e7a2c",
   "metadata": {},
   "outputs": [],
   "source": [
    "#ライブラリのインポート\n",
    "import numpy as np\n",
    "import pandas as pd\n",
    "\n",
    "import statsmodels.api as sm\n",
    "import statsmodels.formula.api as smf\n",
    "\n",
    "import matplotlib.pyplot as plt\n",
    "import seaborn as sns\n",
    "%matplotlib inline"
   ]
  },
  {
   "cell_type": "code",
   "execution_count": 2,
   "id": "2bca6248",
   "metadata": {},
   "outputs": [],
   "source": [
    "#データの読み込み\n",
    "df = pd.read_csv('●●●●.csv')"
   ]
  },
  {
   "cell_type": "code",
   "execution_count": null,
   "id": "fc557076",
   "metadata": {},
   "outputs": [],
   "source": [
    "#データフレーム基本情報\n",
    "df.info()"
   ]
  },
  {
   "cell_type": "code",
   "execution_count": null,
   "id": "e94c3952",
   "metadata": {},
   "outputs": [],
   "source": [
    "#欠損値確認\n",
    "df.isnull().sum()"
   ]
  },
  {
   "cell_type": "code",
   "execution_count": null,
   "id": "e954b000",
   "metadata": {},
   "outputs": [],
   "source": [
    "#数値データの分布\n",
    "df.describe()"
   ]
  },
  {
   "cell_type": "markdown",
   "id": "be4f42a8",
   "metadata": {},
   "source": [
    "④Analysis（分析）"
   ]
  },
  {
   "cell_type": "code",
   "execution_count": null,
   "id": "3f5284ec",
   "metadata": {},
   "outputs": [],
   "source": [
    "#データ分析①NIHSS初回と平均単位数\n",
    "\n",
    "x = df[\"NIHSS初回\"]\n",
    "y = df[\"平均単位数\"]\n",
    "\n",
    "#モデル作成\n",
    "model = sm.OLS(y,sm.add_constant(x))\n",
    "result = model.fit()\n",
    "result.summary()"
   ]
  },
  {
   "cell_type": "code",
   "execution_count": null,
   "id": "289d3821",
   "metadata": {},
   "outputs": [],
   "source": [
    "#データ分析②NIHSS中間と平均単位数\n",
    "\n",
    "x = df[\"NIHSS中間\"]\n",
    "y = df[\"平均単位数\"]\n",
    "\n",
    "#モデル作成\n",
    "model = sm.OLS(y,sm.add_constant(x))\n",
    "result = model.fit()\n",
    "result.summary()"
   ]
  },
  {
   "cell_type": "code",
   "execution_count": null,
   "id": "50428110",
   "metadata": {},
   "outputs": [],
   "source": [
    "#データ分析③NIHSS最終と平均単位数\n",
    "\n",
    "x = df[\"NIHSS最終\"]\n",
    "y = df[\"平均単位数\"]\n",
    "\n",
    "#モデル作成\n",
    "model = sm.OLS(y,sm.add_constant(x))\n",
    "result = model.fit()\n",
    "result.summary()"
   ]
  },
  {
   "cell_type": "code",
   "execution_count": null,
   "id": "90b94074",
   "metadata": {},
   "outputs": [],
   "source": [
    "#データ分析④FIM初回と平均単位数\n",
    "\n",
    "x = df[\"FIM初回\"]\n",
    "y = df[\"平均単位数\"]\n",
    "\n",
    "#モデル作成\n",
    "model = sm.OLS(y,sm.add_constant(x))\n",
    "result = model.fit()\n",
    "result.summary()"
   ]
  },
  {
   "cell_type": "code",
   "execution_count": null,
   "id": "ec2a3a5f",
   "metadata": {},
   "outputs": [],
   "source": [
    "#データ分析⑤FIM中間と平均単位数\n",
    "\n",
    "x = df[\"FIM中間\"]\n",
    "y = df[\"平均単位数\"]\n",
    "\n",
    "#モデル作成\n",
    "model = sm.OLS(y,sm.add_constant(x))\n",
    "result = model.fit()\n",
    "result.summary()"
   ]
  },
  {
   "cell_type": "code",
   "execution_count": null,
   "id": "94e9ec62",
   "metadata": {},
   "outputs": [],
   "source": [
    "#データ分析⑥NIHSS最終と平均単位数\n",
    "\n",
    "x = df[\"NIHSS最終\"]\n",
    "y = df[\"平均単位数\"]\n",
    "\n",
    "#モデル作成\n",
    "model = sm.OLS(y,sm.add_constant(x))\n",
    "result = model.fit()\n",
    "result.summary()"
   ]
  },
  {
   "cell_type": "code",
   "execution_count": null,
   "id": "98f62cbb",
   "metadata": {},
   "outputs": [],
   "source": [
    "#データ分析⑦合計単位数と平均単位数\n",
    "\n",
    "x = df[\"合計単位数\"]\n",
    "y = df[\"平均単位数\"]\n",
    "\n",
    "#モデル作成\n",
    "model = sm.OLS(y,sm.add_constant(x))\n",
    "result = model.fit()\n",
    "result.summary()"
   ]
  },
  {
   "cell_type": "markdown",
   "id": "86a5a826",
   "metadata": {},
   "source": [
    "⑤結果と考察⑴"
   ]
  },
  {
   "cell_type": "markdown",
   "id": "2d07839c",
   "metadata": {},
   "source": [
    "結果：NIHSSとFIMの各値と平均取得単位数にほとんど相関関係は無い\n",
    "\n",
    "考察：平均取得単位数は1～3の範囲で決まる為、関係性が導きにくかったのではないか\n",
    "\n",
    "行動：平均取得単位数はリハビリ実施日数と合計取得単位数から算出しているので、合計取得単位数を目的変数として再度分析"
   ]
  },
  {
   "cell_type": "code",
   "execution_count": null,
   "id": "e77b5143",
   "metadata": {},
   "outputs": [],
   "source": [
    "#データ分析⑧NIHSS初回と合計単位数\n",
    "\n",
    "x = df[\"NIHSS初回\"]\n",
    "y = df[\"合計単位数\"]\n",
    "\n",
    "#モデル作成\n",
    "model = sm.OLS(y,sm.add_constant(x))\n",
    "result = model.fit()\n",
    "result.summary()"
   ]
  },
  {
   "cell_type": "code",
   "execution_count": null,
   "id": "4e492cb0",
   "metadata": {},
   "outputs": [],
   "source": [
    "#データ分析⑨FIM初回とNIHSS初回\n",
    "\n",
    "x = df[\"FIM初回\"]\n",
    "y = df[\"NIHSS初回\"]\n",
    "\n",
    "#モデル作成\n",
    "model = sm.OLS(y,sm.add_constant(x))\n",
    "result = model.fit()\n",
    "result.summary()"
   ]
  },
  {
   "cell_type": "code",
   "execution_count": null,
   "id": "bf09a5bc",
   "metadata": {},
   "outputs": [],
   "source": [
    "#データ分析⑩FIM中間とNIHSS中間\n",
    "\n",
    "x = df[\"FIM中間\"]\n",
    "y = df[\"NIHSS中間\"]\n",
    "\n",
    "#モデル作成\n",
    "model = sm.OLS(y,sm.add_constant(x))\n",
    "result = model.fit()\n",
    "result.summary()"
   ]
  },
  {
   "cell_type": "code",
   "execution_count": null,
   "id": "dff75230",
   "metadata": {},
   "outputs": [],
   "source": [
    "#データ分析⑪FIM最終とNIHSS最終\n",
    "\n",
    "x = df[\"FIM最終\"]\n",
    "y = df[\"NIHSS最終\"]\n",
    "\n",
    "#モデル作成\n",
    "model = sm.OLS(y,sm.add_constant(x))\n",
    "result = model.fit()\n",
    "result.summary()"
   ]
  },
  {
   "cell_type": "code",
   "execution_count": null,
   "id": "0be9ac8c",
   "metadata": {},
   "outputs": [],
   "source": [
    "#データ分析⑫NIHSS初回とNIHSS中間\n",
    "\n",
    "x = df[\"NIHSS中間\"]\n",
    "y = df[\"NIHSS初回\"]\n",
    "\n",
    "#モデル作成\n",
    "model = sm.OLS(y,sm.add_constant(x))\n",
    "result = model.fit()\n",
    "result.summary()"
   ]
  },
  {
   "cell_type": "code",
   "execution_count": null,
   "id": "a3a8b886",
   "metadata": {},
   "outputs": [],
   "source": [
    "#データ分析⑬FIM初回とFIM中間\n",
    "\n",
    "x = df[\"FIM中間\"]\n",
    "y = df[\"FIM初回\"]\n",
    "\n",
    "#モデル作成\n",
    "model = sm.OLS(y,sm.add_constant(x))\n",
    "result = model.fit()\n",
    "result.summary()"
   ]
  },
  {
   "cell_type": "markdown",
   "id": "b7487c03",
   "metadata": {},
   "source": [
    "⑤結果と考察⑵"
   ]
  },
  {
   "cell_type": "markdown",
   "id": "3c17ab7c",
   "metadata": {},
   "source": [
    "結果①：目的変数を平均単位数から合計単位数に変更するとNIHSS初回とR²=●と弱い正の相関関係がある\n",
    "\n",
    "結果②：NIHSSとFIMの初回・中間・最終における値はR²＝●とやや強い正の相関関係がある\n",
    "\n",
    "結果③：NIHSS、FIM同様に初回と1週間の値にR²=●以上と強い相関関係がある\n",
    "\n",
    "考察：NIHSS、FIMの初回評価時にて合計単位数（≒平均単位数）を予測できる可能性がある\n",
    "\n",
    "行動①：NIHSS初回から合計単位数を予測する\n",
    "\n",
    "行動②：先行文献からカットオフ値を設定。NIHSS初回は5点以下、FIM初回は70点以上で予後良好と言われている。従って、NIHSS、FIMの初回値をカットオフ値にて２分し、2群での合計単位数に差があるかどうかマンホイットニーのU検定を行う"
   ]
  },
  {
   "cell_type": "markdown",
   "id": "9b7d5b50",
   "metadata": {},
   "source": [
    "行動①：NIHSS初回から合計単位数を予測"
   ]
  },
  {
   "cell_type": "code",
   "execution_count": null,
   "id": "41d0a4fc",
   "metadata": {},
   "outputs": [],
   "source": [
    "x = df[\"NIHSS初回\"]\n",
    "y = df[\"合計単位数\"]\n",
    "\n",
    "#モデル作成\n",
    "model = sm.OLS(y,sm.add_constant(x))\n",
    "result = model.fit()\n",
    "result.summary()"
   ]
  },
  {
   "cell_type": "code",
   "execution_count": null,
   "id": "d22438b0",
   "metadata": {},
   "outputs": [],
   "source": [
    "#回帰直線の可視化\n",
    "sns.set(font=\"meiryo\")\n",
    "sns.lmplot(x='NIHSS初回', y='合計単位数', data=df,height=7)"
   ]
  },
  {
   "cell_type": "code",
   "execution_count": null,
   "id": "61571bf1",
   "metadata": {},
   "outputs": [],
   "source": [
    "#予測\n",
    "df[\"predict\"] = result.predict()  \n",
    "df.plot.scatter(x=\"predict\", y=\"合計単位数\")\n",
    "df.head()"
   ]
  },
  {
   "cell_type": "markdown",
   "id": "b465895f",
   "metadata": {},
   "source": [
    "行動②：先行文献からカットオフ値を設定。NIHSS初回は5点以下、FIM初回は70点以上で予後良好と言われている。従って、NIHSS、FIMの初回値をカットオフ値にて２分し、2群での合計単位数に差があるかどうかマンホイットニーのU検定を行う"
   ]
  },
  {
   "cell_type": "code",
   "execution_count": 22,
   "id": "117d6f82",
   "metadata": {},
   "outputs": [],
   "source": [
    "#ライブラリのインポート\n",
    "import numpy as np\n",
    "from scipy import stats"
   ]
  },
  {
   "cell_type": "code",
   "execution_count": null,
   "id": "8e7c9074",
   "metadata": {},
   "outputs": [],
   "source": [
    "#NIHSS初回と合計単位数　5点以下（A）・6点以上（B）の2群間での比較\n",
    "A = np.array([●,●,●,●,●])\n",
    "B = np.array([●,●,●,●,●])\n",
    "stats.mannwhitneyu(A, B, alternative='two-sided')"
   ]
  },
  {
   "cell_type": "markdown",
   "id": "e1db0daa",
   "metadata": {},
   "source": [
    "有意水準を0.05、帰無仮説を「2群間の代表値に差がないこと」\n",
    "p < 0.05なので、帰無仮説は棄却され、2群の代表値には差がある"
   ]
  },
  {
   "cell_type": "code",
   "execution_count": null,
   "id": "6f8ae6be",
   "metadata": {},
   "outputs": [],
   "source": [
    "#FIM初回と合計単位数　70点未満（A）・70点以上（B）の2群間での比較\n",
    "A = np.array([●,●,●,●,●])\n",
    "B = np.array([●,●,●,●,●])\n",
    "stats.mannwhitneyu(A, B, alternative='two-sided')"
   ]
  },
  {
   "cell_type": "markdown",
   "id": "53a65c56",
   "metadata": {},
   "source": [
    "有意水準を0.05、帰無仮説を「2群間の代表値に差がないこと」 p < 0.05なので、帰無仮説は棄却され、2群の代表値には差がある"
   ]
  },
  {
   "cell_type": "code",
   "execution_count": null,
   "id": "be8c73db",
   "metadata": {},
   "outputs": [],
   "source": [
    "#NIHSS初回と平均単位数　5点以下（A）・6点以上（B）の2群間での比較\n",
    "A = np.array([●,●,●,●,●])\n",
    "B = np.array([●,●,●,●,●])\n",
    "stats.mannwhitneyu(A, B, alternative='two-sided')"
   ]
  },
  {
   "cell_type": "markdown",
   "id": "0851a443",
   "metadata": {},
   "source": [
    "有意水準を0.05、帰無仮説を「2群間の代表値に差がないこと」 p > 0.05なので、帰無仮説は棄却されず、2群の代表値には差があるとは言えない"
   ]
  },
  {
   "cell_type": "code",
   "execution_count": null,
   "id": "60c5bba3",
   "metadata": {},
   "outputs": [],
   "source": [
    "#FIM初回と平均単位数　70点未満（A）・70点以上（B）の2群間での比較\n",
    "A = np.array([●,●,●,●,●])\n",
    "B = np.array([●,●,●,●,●])\n",
    "stats.mannwhitneyu(A, B, alternative='two-sided')"
   ]
  },
  {
   "cell_type": "markdown",
   "id": "4e208ff2",
   "metadata": {},
   "source": [
    "有意水準を0.05、帰無仮説を「2群間の代表値に差がないこと」 p > 0.05なので、帰無仮説は棄却されず、2群の代表値には差があるとは言えない"
   ]
  },
  {
   "cell_type": "markdown",
   "id": "859a7010",
   "metadata": {},
   "source": [
    "⑤結果と考察⑶"
   ]
  },
  {
   "cell_type": "markdown",
   "id": "3761e4b9",
   "metadata": {},
   "source": [
    "結果①：FIM初回値70点以上の群と70点未満の群に差がある\n",
    "\n",
    "考察①：70点未満（身体活動量が低い）の人の方が多くの単位数を取得している可能性が高い\n",
    "\n",
    "\n",
    "結果②：NIHSS初回値5点以下の群と6点以上の群に差がある\n",
    "\n",
    "考察②：6点以上（状態が悪い）の人の方が多くの単位数を取得している可能性が高い\n",
    "\n",
    "考察③：上記2つの要因として、日常生活動作能力が低い場合は単純に入院・リハビリ実施期間が長い可能性が考えられる"
   ]
  },
  {
   "cell_type": "markdown",
   "id": "286bf8c3",
   "metadata": {},
   "source": [
    "⑤Conclusion （結論）​"
   ]
  },
  {
   "cell_type": "markdown",
   "id": "85ab8398",
   "metadata": {},
   "source": [
    "結論①：目的変数を平均単位数とした場合、説明因子との相関がほとんどない\n",
    "\n",
    "結論②：目的変数を合計単位数とした場合、NIHSS初回とR²=●と弱い正の相関関係がある\n",
    "\n",
    "結論③：NIHSS初回を説明変数とし、ある程度の合計単位数を予測することが出来る\n",
    "\n",
    "結論④：カットオフ値を基準に2群に分けて比較すると、合計単位数は介入初回時の脳卒中の神経学的重症度、日常生活動作能力と関係があるが、平均単位数は関係があるとは言えない\n"
   ]
  },
  {
   "cell_type": "markdown",
   "id": "f7139c46",
   "metadata": {},
   "source": [
    "⑥展望と具体的対応"
   ]
  },
  {
   "cell_type": "markdown",
   "id": "7c6e6e24",
   "metadata": {},
   "source": [
    "展望：介入初回時に脳卒中の神経学的重症度が軽く、日常生活動作能力が高い場合（軽症な症例）においては平均単位数が高い結果となっても良いと思われる\n",
    "\n",
    "対応①NIHSS初回値が５点未満の場合は平均２単位取得を目指す\n",
    "\n",
    "対応②FIM初回値が７０点以上の場合は平均２単位取得を目指す"
   ]
  },
  {
   "cell_type": "markdown",
   "id": "437aa924",
   "metadata": {},
   "source": [
    "⑦再評価（2022年12月末を予定）"
   ]
  }
 ],
 "metadata": {
  "kernelspec": {
   "display_name": "Python 3 (ipykernel)",
   "language": "python",
   "name": "python3"
  },
  "language_info": {
   "codemirror_mode": {
    "name": "ipython",
    "version": 3
   },
   "file_extension": ".py",
   "mimetype": "text/x-python",
   "name": "python",
   "nbconvert_exporter": "python",
   "pygments_lexer": "ipython3",
   "version": "3.9.12"
  }
 },
 "nbformat": 4,
 "nbformat_minor": 5
}
